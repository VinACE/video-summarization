{
 "cells": [
  {
   "cell_type": "code",
   "execution_count": 1,
   "metadata": {},
   "outputs": [],
   "source": [
    "import os\n",
    "\n",
    "import cv2\n",
    "import numpy as np\n",
    "from matplotlib import pyplot as plt\n",
    "import time\n",
    "import memfd\n",
    "\n",
    "%load_ext line_profiler\n",
    "\n",
    "def diff_perc(image1, image2):\n",
    "    gray_image1 = cv2.cvtColor(image1, cv2.COLOR_RGB2GRAY)\n",
    "    gray_image2 = cv2.cvtColor(image2, cv2.COLOR_RGB2GRAY)\n",
    "    diff = cv2.absdiff(gray_image1,gray_image2)\n",
    "    return np.sum(diff)/np.prod(diff.shape)\n",
    "\n",
    "class ABKVideoCapture(object):\n",
    "    \"\"\"\n",
    "        Author: Ahmed Bilal Khalid\n",
    "    \"\"\"\n",
    "    \n",
    "    def __init__(self, file):\n",
    "        if os.path.isfile(file):\n",
    "            self.video = cv2.VideoCapture(file)\n",
    "            self.frames = self.frames_generator()\n",
    "            self.frames_per_second = self.video.get(cv2.CAP_PROP_FPS)\n",
    "            \n",
    "            width = int(self.video.get(cv2.CAP_PROP_FRAME_WIDTH))\n",
    "            height = int(self.video.get(cv2.CAP_PROP_FRAME_HEIGHT))\n",
    "            self.dimensions = width, height\n",
    "        else:\n",
    "            raise FileNotFound\n",
    "\n",
    "    def frames_generator(self):\n",
    "        \"\"\"Returns next frame from self.video\"\"\"\n",
    "        \n",
    "        success, image = self.video.read()  # return read_status and next_frame_image\n",
    "        while success:\n",
    "            success, image = self.video.read()  # return read_status and next_frame_image\n",
    "            if success:\n",
    "                yield image\n",
    "    \n",
    "    def next_frame(self):\n",
    "        \"\"\"Returns next frame from self.frames\"\"\"\n",
    "        \n",
    "        return next(self.frames)\n",
    "\n",
    "\n",
    "    def create_substantial_motion_video(self, out_filename):\n",
    "        THRESHOLD = 0.5\n",
    "\n",
    "        fourcc = cv2.VideoWriter_fourcc('a', 'v', 'c', '1')\n",
    "        output_video = cv2.VideoWriter(out_filename, fourcc,\n",
    "                                       self.frames_per_second,\n",
    "                                       self.dimensions)\n",
    "        \n",
    "        last_frame = self.next_frame()\n",
    "\n",
    "        for frame in self.frames:\n",
    "            diff = diff_perc(last_frame, frame)\n",
    "            if diff > THRESHOLD:\n",
    "                last_frame = frame\n",
    "                output_video.write(frame)\n",
    "        \n",
    "        output_video.release()"
   ]
  },
  {
   "cell_type": "code",
   "execution_count": 2,
   "metadata": {},
   "outputs": [],
   "source": [
    "video = ABKVideoCapture(\"Normal_Videos319_x264.mp4\")"
   ]
  },
  {
   "cell_type": "code",
   "execution_count": 3,
   "metadata": {},
   "outputs": [],
   "source": [
    "%lprun -f video.create_substantial_motion_video video.create_substantial_motion_video(\"short.mp4\")"
   ]
  },
  {
   "cell_type": "code",
   "execution_count": null,
   "metadata": {},
   "outputs": [],
   "source": []
  }
 ],
 "metadata": {
  "kernelspec": {
   "display_name": "Python 3",
   "language": "python",
   "name": "python3"
  },
  "language_info": {
   "codemirror_mode": {
    "name": "ipython",
    "version": 3
   },
   "file_extension": ".py",
   "mimetype": "text/x-python",
   "name": "python",
   "nbconvert_exporter": "python",
   "pygments_lexer": "ipython3",
   "version": "3.6.5"
  }
 },
 "nbformat": 4,
 "nbformat_minor": 2
}
