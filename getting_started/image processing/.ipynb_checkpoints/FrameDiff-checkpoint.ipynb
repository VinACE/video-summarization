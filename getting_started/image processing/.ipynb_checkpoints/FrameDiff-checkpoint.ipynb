{
 "cells": [
  {
   "cell_type": "code",
   "execution_count": 1,
   "metadata": {},
   "outputs": [],
   "source": [
    "import cv2\n",
    "import numpy as np\n",
    "from matplotlib import pyplot as plt"
   ]
  },
  {
   "cell_type": "code",
   "execution_count": null,
   "metadata": {},
   "outputs": [],
   "source": [
    "THRESHOLD = 0.5"
   ]
  },
  {
   "cell_type": "code",
   "execution_count": 2,
   "metadata": {},
   "outputs": [],
   "source": [
    "def diff_perc(image1, image2):\n",
    "    gray_image1 = cv2.cvtColor(image1, cv2.COLOR_RGB2GRAY)\n",
    "    gray_image2 = cv2.cvtColor(image2, cv2.COLOR_RGB2GRAY)\n",
    "    diff = cv2.absdiff(gray_image1,gray_image2)\n",
    "    return np.sum(diff)/np.prod(diff.shape)"
   ]
  },
  {
   "cell_type": "code",
   "execution_count": 3,
   "metadata": {},
   "outputs": [],
   "source": [
    "frames = []\n",
    "substantially_diff_frames = []"
   ]
  },
  {
   "cell_type": "code",
   "execution_count": 4,
   "metadata": {},
   "outputs": [
    {
     "name": "stdout",
     "output_type": "stream",
     "text": [
      "Frames in original video 30.0\n"
     ]
    }
   ],
   "source": [
    "video = cv2.VideoCapture(\"Normal_Videos318_x264.mp4\")\n",
    "frames_per_sec_in_org_video = video.get(cv2.CAP_PROP_FPS)\n",
    "print(\"Frames in original video\", frames_per_sec_in_org_video)"
   ]
  },
  {
   "cell_type": "code",
   "execution_count": 5,
   "metadata": {},
   "outputs": [],
   "source": [
    "success, image = video.read()"
   ]
  },
  {
   "cell_type": "code",
   "execution_count": 6,
   "metadata": {},
   "outputs": [],
   "source": [
    "while success:\n",
    "    #frames.append(cv2.cvtColor(image, cv2.COLOR_BGR2RGB))\n",
    "    frames.append(image)\n",
    "    success, image = video.read()"
   ]
  },
  {
   "cell_type": "code",
   "execution_count": 7,
   "metadata": {},
   "outputs": [
    {
     "name": "stdout",
     "output_type": "stream",
     "text": [
      "Total Frames 1300\n"
     ]
    }
   ],
   "source": [
    "print(\"Total Frames\",len(frames))\n",
    "count = 0\n",
    "for i in range(0, len(frames) - 1, 2):\n",
    "    diff = diff_perc(frames[i], frames[i+1])\n",
    "    if diff > THRESHOLD:\n",
    "        substantially_diff_frames.append(frames[i])\n",
    "        substantially_diff_frames.append(frames[i + 1])\n",
    "        count += 1"
   ]
  },
  {
   "cell_type": "code",
   "execution_count": 8,
   "metadata": {},
   "outputs": [],
   "source": [
    "video = cv2.VideoWriter('generated_video.mp4', cv2.VideoWriter_fourcc(*'H264'),\n",
    "                        frames_per_sec_in_org_video, tuple(reversed(substantially_diff_frames[0].shape[:2])))\n",
    "for frame in substantially_diff_frames:\n",
    "    video.write(frame)\n",
    "video.release()"
   ]
  },
  {
   "cell_type": "code",
   "execution_count": 9,
   "metadata": {},
   "outputs": [
    {
     "name": "stdout",
     "output_type": "stream",
     "text": [
      "Frames with substantial changes: 212\n"
     ]
    }
   ],
   "source": [
    "print(\"Frames with substantial changes:\",count)"
   ]
  },
  {
   "cell_type": "code",
   "execution_count": null,
   "metadata": {},
   "outputs": [],
   "source": []
  }
 ],
 "metadata": {
  "kernelspec": {
   "display_name": "Python 3",
   "language": "python",
   "name": "python3"
  },
  "language_info": {
   "codemirror_mode": {
    "name": "ipython",
    "version": 3
   },
   "file_extension": ".py",
   "mimetype": "text/x-python",
   "name": "python",
   "nbconvert_exporter": "python",
   "pygments_lexer": "ipython3",
   "version": "3.6.5"
  }
 },
 "nbformat": 4,
 "nbformat_minor": 2
}
